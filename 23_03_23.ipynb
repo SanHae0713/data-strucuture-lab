{
  "nbformat": 4,
  "nbformat_minor": 0,
  "metadata": {
    "colab": {
      "provenance": [],
      "authorship_tag": "ABX9TyOEnUNXfZVm3KgWFkqoGq+W",
      "include_colab_link": true
    },
    "kernelspec": {
      "name": "python3",
      "display_name": "Python 3"
    },
    "language_info": {
      "name": "python"
    }
  },
  "cells": [
    {
      "cell_type": "markdown",
      "metadata": {
        "id": "view-in-github",
        "colab_type": "text"
      },
      "source": [
        "<a href=\"https://colab.research.google.com/github/SanHae0713/data-strucuture-lab/blob/master/23_03_23.ipynb\" target=\"_parent\"><img src=\"https://colab.research.google.com/assets/colab-badge.svg\" alt=\"Open In Colab\"/></a>"
      ]
    },
    {
      "cell_type": "code",
      "execution_count": null,
      "metadata": {
        "id": "lcTZIs0QGakx"
      },
      "outputs": [],
      "source": [
        "def factorial(n):\n",
        "  if n==1:\n",
        "    return 1\n",
        "  else:\n",
        "    return n*factorial(n-1)\n",
        "    \n"
      ]
    },
    {
      "cell_type": "code",
      "source": [
        "print(factorial(10))"
      ],
      "metadata": {
        "colab": {
          "base_uri": "https://localhost:8080/"
        },
        "id": "WwSj647rG6j8",
        "outputId": "b19a7a06-1f1a-4741-c6f2-d4f0de371cdf"
      },
      "execution_count": null,
      "outputs": [
        {
          "output_type": "stream",
          "name": "stdout",
          "text": [
            "3628800\n"
          ]
        }
      ]
    },
    {
      "cell_type": "code",
      "source": [
        "def factorial2(n):\n",
        "  result = 1\n",
        "  for k in range(n, 0, -1):\n",
        "    result = result * k \n",
        "  return result"
      ],
      "metadata": {
        "id": "KEKG0BC0IBB8"
      },
      "execution_count": null,
      "outputs": []
    },
    {
      "cell_type": "code",
      "source": [
        "print(factorial2(10))"
      ],
      "metadata": {
        "colab": {
          "base_uri": "https://localhost:8080/"
        },
        "id": "QbVFGD4gIPu9",
        "outputId": "ff4b067e-7885-4244-878d-d7a9fcbeb1f2"
      },
      "execution_count": null,
      "outputs": [
        {
          "output_type": "stream",
          "name": "stdout",
          "text": [
            "3628800\n"
          ]
        }
      ]
    },
    {
      "cell_type": "code",
      "source": [
        "import math as m "
      ],
      "metadata": {
        "id": "cYfVlXhXIYXR"
      },
      "execution_count": null,
      "outputs": []
    },
    {
      "cell_type": "markdown",
      "source": [],
      "metadata": {
        "id": "BrBSDhVCIow4"
      }
    },
    {
      "cell_type": "code",
      "source": [
        "m.pow(2,3)"
      ],
      "metadata": {
        "colab": {
          "base_uri": "https://localhost:8080/"
        },
        "id": "No5esQjrIZ8Z",
        "outputId": "2387ba91-8ab5-4fc3-95de-a576f239847d"
      },
      "execution_count": null,
      "outputs": [
        {
          "output_type": "execute_result",
          "data": {
            "text/plain": [
              "8.0"
            ]
          },
          "metadata": {},
          "execution_count": 7
        }
      ]
    },
    {
      "cell_type": "code",
      "source": [
        "def power_iter(x,n):\n",
        "  result=1.0\n",
        "  for i in range(n):\n",
        "    result=result*x\n",
        "  return result"
      ],
      "metadata": {
        "id": "4u-RCco9Icgt"
      },
      "execution_count": null,
      "outputs": []
    },
    {
      "cell_type": "code",
      "source": [
        "def power_recur(x,n):\n",
        "  if n == 0:\n",
        "    return 1\n",
        "  elif (n % 2) == 0:\n",
        "    return power_recur(x*x, n//2)\n",
        "  else:\n",
        "    return x*power_recur(x*x, (n-1)//2)"
      ],
      "metadata": {
        "id": "iTSChiO9Ixv1"
      },
      "execution_count": null,
      "outputs": []
    },
    {
      "cell_type": "code",
      "source": [
        "print(power_recur(2,3))"
      ],
      "metadata": {
        "colab": {
          "base_uri": "https://localhost:8080/"
        },
        "id": "7C2NFNj2JZ5G",
        "outputId": "742e4a92-24f1-4915-9178-e8fa4e39c151"
      },
      "execution_count": null,
      "outputs": [
        {
          "output_type": "stream",
          "name": "stdout",
          "text": [
            "8\n"
          ]
        }
      ]
    }
  ]
}